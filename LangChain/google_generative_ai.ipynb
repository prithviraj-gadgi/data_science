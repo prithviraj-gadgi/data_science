{
 "cells": [
  {
   "cell_type": "code",
   "execution_count": 1,
   "id": "161948ef-0d23-40c0-a5d8-56c64e7c23b3",
   "metadata": {},
   "outputs": [
    {
     "data": {
      "text/plain": [
       "True"
      ]
     },
     "execution_count": 1,
     "metadata": {},
     "output_type": "execute_result"
    }
   ],
   "source": [
    "import os\n",
    "from langchain_google_genai import GoogleGenerativeAI\n",
    "from dotenv import load_dotenv\n",
    "load_dotenv()"
   ]
  },
  {
   "cell_type": "code",
   "execution_count": 6,
   "id": "caa82ad4-e43d-4369-97f2-99aaad1bb217",
   "metadata": {},
   "outputs": [],
   "source": [
    "llm = GoogleGenerativeAI(api_key=os.getenv('GEMINIAPI_API_KEY'), temperature=0.7, model='gemini-2.0-flash')"
   ]
  },
  {
   "cell_type": "code",
   "execution_count": 8,
   "id": "364b8fc5-a473-43ef-94a5-4139de392f70",
   "metadata": {},
   "outputs": [
    {
     "name": "stdout",
     "output_type": "stream",
     "text": [
      "**\"The Raj Mahal Brasserie\"**\n"
     ]
    }
   ],
   "source": [
    "name = llm.invoke('I want to open a restorant for Indian food. Suggest me only one fancy name for this.')\n",
    "print(name)"
   ]
  },
  {
   "cell_type": "code",
   "execution_count": null,
   "id": "70258ea8-1c8e-40fc-a8eb-235732f628ac",
   "metadata": {},
   "outputs": [],
   "source": []
  }
 ],
 "metadata": {
  "kernelspec": {
   "display_name": "Python 3 (ipykernel)",
   "language": "python",
   "name": "python3"
  },
  "language_info": {
   "codemirror_mode": {
    "name": "ipython",
    "version": 3
   },
   "file_extension": ".py",
   "mimetype": "text/x-python",
   "name": "python",
   "nbconvert_exporter": "python",
   "pygments_lexer": "ipython3",
   "version": "3.12.8"
  },
  "widgets": {
   "application/vnd.jupyter.widget-state+json": {
    "state": {},
    "version_major": 2,
    "version_minor": 0
   }
  }
 },
 "nbformat": 4,
 "nbformat_minor": 5
}
