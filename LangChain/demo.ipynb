{
 "cells": [
  {
   "cell_type": "code",
   "execution_count": 1,
   "id": "0b937485-d561-4ecc-b83e-288e639238d2",
   "metadata": {},
   "outputs": [
    {
     "data": {
      "text/plain": [
       "True"
      ]
     },
     "execution_count": 1,
     "metadata": {},
     "output_type": "execute_result"
    }
   ],
   "source": [
    "from langchain_openai import OpenAI\n",
    "from langchain.prompts import PromptTemplate\n",
    "from langchain_core.runnables import RunnableMap, RunnableLambda\n",
    "from dotenv import load_dotenv\n",
    "load_dotenv()"
   ]
  },
  {
   "cell_type": "code",
   "execution_count": 2,
   "id": "dfc2a93d-f502-47a7-b6ed-46a3c416b7a4",
   "metadata": {},
   "outputs": [],
   "source": [
    "llm = OpenAI(temperature=0.7)"
   ]
  },
  {
   "cell_type": "code",
   "execution_count": 3,
   "id": "e61e5978-7ee6-4c33-95bb-27de71b7c13f",
   "metadata": {},
   "outputs": [],
   "source": [
    "restaurant_name_chain = RunnableMap({\n",
    "    'restaurant_name': PromptTemplate(\n",
    "        template='Suggest a fancy restaurant name for {country} cuisine', \n",
    "        input_variables=['country']\n",
    "    ) | llm\n",
    "})"
   ]
  },
  {
   "cell_type": "code",
   "execution_count": 4,
   "id": "0fe5748a-653e-4249-a404-ebf6d6a35734",
   "metadata": {},
   "outputs": [],
   "source": [
    "food_menu_chain = RunnableMap({\n",
    "    'food_menu': PromptTemplate(\n",
    "        template='Generate menu items for the {restaurant_name}',\n",
    "        input_variables=['restaurant_name']\n",
    "    ) | llm\n",
    "})"
   ]
  },
  {
   "cell_type": "code",
   "execution_count": 5,
   "id": "674eddbb-65ae-4411-b0bb-6b25e979325e",
   "metadata": {},
   "outputs": [],
   "source": [
    "restaurant_tagline_chain = RunnableMap({\n",
    "    'restaurant_tagline': PromptTemplate(\n",
    "        template='Generate an attractive tagline for {restaurant_name} in {language}',\n",
    "        input_variables=['restaurant_name', 'language']\n",
    "    ) | llm\n",
    "})"
   ]
  },
  {
   "cell_type": "code",
   "execution_count": 6,
   "id": "24596e9c-6552-4967-809b-c6e019e69b29",
   "metadata": {},
   "outputs": [],
   "source": [
    "def chain_wrapper(inputs: dict) -> dict: \n",
    "    \n",
    "    name = restaurant_name_chain.invoke(inputs)\n",
    "    menu = food_menu_chain.invoke(name)\n",
    "    tagline = restaurant_tagline_chain.invoke({**name, **inputs})\n",
    "\n",
    "    return {**name, **menu, **tagline}"
   ]
  },
  {
   "cell_type": "code",
   "execution_count": 7,
   "id": "92063213-ee56-4963-98f2-484013a8161c",
   "metadata": {},
   "outputs": [],
   "source": [
    "full_chain = RunnableLambda(chain_wrapper)"
   ]
  },
  {
   "cell_type": "code",
   "execution_count": 12,
   "id": "a79042f4-ff8d-473d-b61c-3f9f76257374",
   "metadata": {},
   "outputs": [
    {
     "name": "stdout",
     "output_type": "stream",
     "text": [
      "Name:  \n",
      "\n",
      "\"Taj Mahal Tastes\" \n",
      "Menu:  \n",
      "\n",
      "1. Butter Chicken: Tender chicken cooked in a creamy tomato and butter sauce, served with fragrant basmati rice.\n",
      "\n",
      "2. Tandoori Chicken: Marinated chicken cooked in a clay oven, served with mint chutney and naan bread.\n",
      "\n",
      "3. Vegetable Biryani: A flavorful rice dish made with mixed vegetables, spices, and herbs, topped with crispy fried onions.\n",
      "\n",
      "4. Lamb Rogan Josh: Slow-cooked tender lamb in a rich and spicy tomato-based sauce, served with garlic naan.\n",
      "\n",
      "5. Palak Paneer: Fresh spinach and cottage cheese cooked with aromatic spices, served with basmati rice.\n",
      "\n",
      "6. Chicken Tikka Masala: Grilled chicken in a creamy tomato and onion sauce, served with cumin-flavored rice.\n",
      "\n",
      "7. Aloo Gobi: Cauliflower and potatoes cooked in a blend of spices and herbs, served with fluffy basmati rice.\n",
      "\n",
      "8. Dal Makhani: A creamy and flavorful lentil stew, served with garlic naan.\n",
      "\n",
      "9. Malai Kofta: Vegetable and cheese dumplings in a creamy cashew and tomato sauce, served with saffron-infused rice.\n",
      "\n",
      "10. Mango Lassi: A refreshing yogurt-based drink made with fresh mangoes, perfect\n",
      "Tagline:  \n",
      "\n",
      "\"Swad ki shahenshahi, Taj Mahal Tastes\" \n"
     ]
    }
   ],
   "source": [
    "result = full_chain.invoke({\"country\": \"Indian\", \"language\": \"Hindi\"})\n",
    "print(\"Name: \", result[\"restaurant_name\"])\n",
    "print(\"Menu: \", result[\"food_menu\"])\n",
    "print(\"Tagline: \", result[\"restaurant_tagline\"])"
   ]
  },
  {
   "cell_type": "code",
   "execution_count": null,
   "id": "3ab9a1ea-a273-4747-803a-18c178560dd7",
   "metadata": {},
   "outputs": [],
   "source": []
  }
 ],
 "metadata": {
  "kernelspec": {
   "display_name": "Python 3 (ipykernel)",
   "language": "python",
   "name": "python3"
  },
  "language_info": {
   "codemirror_mode": {
    "name": "ipython",
    "version": 3
   },
   "file_extension": ".py",
   "mimetype": "text/x-python",
   "name": "python",
   "nbconvert_exporter": "python",
   "pygments_lexer": "ipython3",
   "version": "3.12.8"
  },
  "widgets": {
   "application/vnd.jupyter.widget-state+json": {
    "state": {},
    "version_major": 2,
    "version_minor": 0
   }
  }
 },
 "nbformat": 4,
 "nbformat_minor": 5
}
