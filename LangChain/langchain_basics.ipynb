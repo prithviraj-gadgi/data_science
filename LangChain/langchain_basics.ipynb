{
 "cells": [
  {
   "cell_type": "code",
   "execution_count": 1,
   "id": "4a969344-73cb-4e37-8d53-e18b8b487bd5",
   "metadata": {},
   "outputs": [],
   "source": [
    "from dotenv import load_dotenv"
   ]
  },
  {
   "cell_type": "code",
   "execution_count": 2,
   "id": "b06bfff4-f67d-4fa1-89ba-f52fd789b313",
   "metadata": {},
   "outputs": [
    {
     "data": {
      "text/plain": [
       "True"
      ]
     },
     "execution_count": 2,
     "metadata": {},
     "output_type": "execute_result"
    }
   ],
   "source": [
    "load_dotenv()"
   ]
  },
  {
   "cell_type": "code",
   "execution_count": 3,
   "id": "53e40eb6-bb19-4e0a-942e-7dd1bf2a9a93",
   "metadata": {},
   "outputs": [],
   "source": [
    "from langchain_openai import OpenAI"
   ]
  },
  {
   "cell_type": "code",
   "execution_count": 4,
   "id": "437dd935-5a8a-46b6-b387-3a50f0ed5868",
   "metadata": {},
   "outputs": [],
   "source": [
    "llm = OpenAI(temperature=0.6)"
   ]
  },
  {
   "cell_type": "code",
   "execution_count": 5,
   "id": "8e161a17-55d8-464a-a2d8-8f281b232e26",
   "metadata": {},
   "outputs": [
    {
     "name": "stdout",
     "output_type": "stream",
     "text": [
      "\n",
      "\n",
      "\"Spice Palace: A Taste of India\"\n"
     ]
    }
   ],
   "source": [
    "name = llm.invoke('I want to open a restorant for Indian food. Suggest a fancy name for this.')\n",
    "print(name)"
   ]
  },
  {
   "cell_type": "code",
   "execution_count": 6,
   "id": "c1c070b6-aebf-4fbb-b535-e34f25a4ed46",
   "metadata": {},
   "outputs": [],
   "source": [
    "from langchain.prompts import PromptTemplate"
   ]
  },
  {
   "cell_type": "code",
   "execution_count": 7,
   "id": "9b933234-4099-43af-aae0-33601357de3f",
   "metadata": {},
   "outputs": [
    {
     "data": {
      "text/plain": [
       "'I want to open a restorant for Indian food. Suggest a fancy name for this.'"
      ]
     },
     "execution_count": 7,
     "metadata": {},
     "output_type": "execute_result"
    }
   ],
   "source": [
    "prompt_template_name = PromptTemplate(\n",
    "    template='I want to open a restorant for {cuisine} food. Suggest a fancy name for this.', \n",
    "    input_variables=['cuisine']\n",
    ")\n",
    "\n",
    "prompt_template_name.format(cuisine='Indian') "
   ]
  },
  {
   "cell_type": "code",
   "execution_count": 8,
   "id": "28fb78b4-1aa8-4d4b-8c8e-2b7eaf651668",
   "metadata": {},
   "outputs": [],
   "source": [
    "from langchain.chains import LLMChain"
   ]
  },
  {
   "cell_type": "code",
   "execution_count": 9,
   "id": "c856efde-9432-4c56-9a82-f49879b2e47c",
   "metadata": {},
   "outputs": [
    {
     "name": "stderr",
     "output_type": "stream",
     "text": [
      "C:\\Users\\prith\\AppData\\Local\\Temp\\ipykernel_12056\\3541426536.py:1: LangChainDeprecationWarning: The class `LLMChain` was deprecated in LangChain 0.1.17 and will be removed in 1.0. Use :meth:`~RunnableSequence, e.g., `prompt | llm`` instead.\n",
      "  name_chain = LLMChain(llm=llm, prompt=prompt_template_name)\n"
     ]
    }
   ],
   "source": [
    "name_chain = LLMChain(llm=llm, prompt=prompt_template_name)"
   ]
  },
  {
   "cell_type": "code",
   "execution_count": 10,
   "id": "172d85e1-4e7b-4ff2-90e8-7b903ea23a4b",
   "metadata": {},
   "outputs": [
    {
     "name": "stdout",
     "output_type": "stream",
     "text": [
      "{'cuisine': 'Chinees', 'text': '\\n\"Golden Dragon Palace\"'}\n"
     ]
    }
   ],
   "source": [
    "name = name_chain.invoke('Chinees')\n",
    "print(name)"
   ]
  },
  {
   "cell_type": "code",
   "execution_count": 11,
   "id": "0937de87-127c-4039-bcd3-a5bab0e7dc28",
   "metadata": {},
   "outputs": [],
   "source": [
    "name_chain = prompt_template_name | llm"
   ]
  },
  {
   "cell_type": "code",
   "execution_count": 12,
   "id": "889ccba8-cd43-46df-811f-8c0040dcde8a",
   "metadata": {},
   "outputs": [
    {
     "name": "stdout",
     "output_type": "stream",
     "text": [
      "\n",
      "\n",
      "\"Imperial Dragon Palace\"\n"
     ]
    }
   ],
   "source": [
    "name = name_chain.invoke('Chinees')\n",
    "print(name)"
   ]
  },
  {
   "cell_type": "code",
   "execution_count": 13,
   "id": "8abcf24e-9c58-4ad4-b7b7-a1021f66acaa",
   "metadata": {},
   "outputs": [],
   "source": [
    "prompt_template_name = PromptTemplate(\n",
    "    template='I want to open a restorant for {cuisine} food. Suggest a fancy name for this.', \n",
    "    input_variables=['cuisine']\n",
    ")\n",
    "\n",
    "prompt_template_items = PromptTemplate(\n",
    "    template='Suggest some menu items for {restaurant_name}. Return it as a comma separated list.',\n",
    "    input_variables=['restaurant_name']\n",
    ")"
   ]
  },
  {
   "cell_type": "code",
   "execution_count": 14,
   "id": "56de2713-df6d-4447-a2c7-806f9afef186",
   "metadata": {},
   "outputs": [],
   "source": [
    "chain = prompt_template_name | prompt_template_items | llm"
   ]
  },
  {
   "cell_type": "code",
   "execution_count": 15,
   "id": "c04d8ea2-d817-4411-a586-7b39e2c93972",
   "metadata": {},
   "outputs": [
    {
     "name": "stdout",
     "output_type": "stream",
     "text": [
      "\n",
      "\n",
      "1. Tandoori Palace \n",
      "2. Spice Kingdom \n",
      "3. Curry Mansion \n",
      "4. Masala Mansion \n",
      "5. Naan Nook \n",
      "6. Tandoori Terrace \n",
      "7. Saffron Palace \n",
      "8. Chai Chalet \n",
      "9. Biryani Bistro \n",
      "10. Samosa Spot\n"
     ]
    }
   ],
   "source": [
    "print(chain.invoke(\"Indian\"))"
   ]
  },
  {
   "cell_type": "code",
   "execution_count": 16,
   "id": "a5d7bd6f-51e7-4d97-b893-b072017b3c7d",
   "metadata": {},
   "outputs": [
    {
     "name": "stdout",
     "output_type": "stream",
     "text": [
      "Restaurant Name: \n",
      "\n",
      "\"El Sabor de México\" (The Flavor of Mexico) \n",
      "Menu Items: \n",
      "\n",
      "1. Tacos al Pastor\n",
      "2. Enchiladas Verdes\n",
      "3. Carne Asada\n",
      "4. Chiles Rellenos\n",
      "5. Pozole\n",
      "6. Fajitas\n",
      "7. Carnitas\n",
      "8. Quesadillas\n",
      "9. Tamales\n",
      "10. Sopes\n",
      "11. Mole Poblano\n",
      "12. Chimichangas\n",
      "13. Tostadas\n",
      "14. Burritos\n",
      "15. Flautas\n",
      "16. Ceviche\n",
      "17. Chilaquiles\n",
      "18. Tres Leches Cake\n",
      "19. Horchata\n",
      "20. Margaritas\n"
     ]
    }
   ],
   "source": [
    "from dotenv import load_dotenv\n",
    "load_dotenv()\n",
    "\n",
    "from langchain_openai import OpenAI\n",
    "from langchain.prompts import PromptTemplate\n",
    "from langchain_core.runnables import RunnableMap, RunnableLambda\n",
    "\n",
    "llm = OpenAI(temperature=0.6)\n",
    "\n",
    "# Prompt to generate restaurant name\n",
    "prompt_template_name = PromptTemplate(\n",
    "    template='I want to open a restaurant for {cuisine} food. Suggest a fancy name for this.',\n",
    "    input_variables=['cuisine']\n",
    ")\n",
    "\n",
    "# Prompt to generate menu items\n",
    "prompt_template_items = PromptTemplate(\n",
    "    template='Suggest some menu items for {restaurant_name}. Return it as a comma separated list.',\n",
    "    input_variables=['restaurant_name']\n",
    ")\n",
    "\n",
    "# Chain 1: cuisine -> restaurant_name\n",
    "name_chain = RunnableMap({\n",
    "    \"restaurant_name\": prompt_template_name | llm\n",
    "})\n",
    "\n",
    "# Custom chain to keep restaurant_name and generate menu_items\n",
    "def generate_menu_with_name(inputs):\n",
    "    restaurant_name = inputs[\"restaurant_name\"]\n",
    "    menu_items = (prompt_template_items | llm).invoke({\"restaurant_name\": restaurant_name})\n",
    "    return {\n",
    "        \"restaurant_name\": restaurant_name,\n",
    "        \"menu_items\": menu_items\n",
    "    }\n",
    "\n",
    "# Full chain: cuisine -> restaurant_name -> menu_items\n",
    "full_chain = name_chain | RunnableLambda(generate_menu_with_name)\n",
    "\n",
    "# Invoke chain\n",
    "result = full_chain.invoke({\"cuisine\": \"Mexican\"})\n",
    "print(\"Restaurant Name:\", result[\"restaurant_name\"])\n",
    "print(\"Menu Items:\", result[\"menu_items\"])"
   ]
  },
  {
   "cell_type": "code",
   "execution_count": 17,
   "id": "fa3ff9f3-8674-44eb-acda-db1429859587",
   "metadata": {},
   "outputs": [
    {
     "data": {
      "text/plain": [
       "True"
      ]
     },
     "execution_count": 17,
     "metadata": {},
     "output_type": "execute_result"
    }
   ],
   "source": [
    "from dotenv import load_dotenv\n",
    "load_dotenv()"
   ]
  },
  {
   "cell_type": "code",
   "execution_count": 18,
   "id": "d4b959a4-4a19-455e-8e1f-69f661c8d7be",
   "metadata": {},
   "outputs": [],
   "source": [
    "from langchain_openai import OpenAI\n",
    "from langchain.prompts import PromptTemplate\n",
    "from langchain.chains import LLMChain, SequentialChain"
   ]
  },
  {
   "cell_type": "code",
   "execution_count": 19,
   "id": "6a11903d-9462-44ff-a929-7818c81926c8",
   "metadata": {},
   "outputs": [],
   "source": [
    "llm = OpenAI(temperature=0.6)"
   ]
  },
  {
   "cell_type": "code",
   "execution_count": 20,
   "id": "4bf4307d-2387-45ef-895f-237db6bbc9bc",
   "metadata": {},
   "outputs": [],
   "source": [
    "prompt_template_name = PromptTemplate(\n",
    "    template='I want to open a restaurant for {cuisine} food. Suggest a fancy name for this.',\n",
    "    input_variables=['cuisine']\n",
    ")\n",
    "\n",
    "name_chain = LLMChain(llm=llm, prompt=prompt_template_name, output_key='restaurant_name')"
   ]
  },
  {
   "cell_type": "code",
   "execution_count": 21,
   "id": "5ca8983a-2a22-4b91-8cbd-e6a32cc434af",
   "metadata": {},
   "outputs": [],
   "source": [
    "prompt_template_items = PromptTemplate(\n",
    "    template='Suggest some menu items for {restaurant_name}. Return it as a comma separated list.',\n",
    "    input_variables=['restaurant_name']\n",
    ")\n",
    "\n",
    "menu_chain = LLMChain(llm=llm, prompt=prompt_template_items, output_key='menu_items')"
   ]
  },
  {
   "cell_type": "code",
   "execution_count": 23,
   "id": "24c648c2-c0cf-48d9-8055-92cbcaf7db83",
   "metadata": {},
   "outputs": [
    {
     "name": "stdout",
     "output_type": "stream",
     "text": [
      "{'cuisine': 'Mexican', 'restaurant_name': '\\n\"El Jardín de Sabores\" (The Garden of Flavors)', 'menu_items': '\\n\\n1. Ensalada de Jardín (Garden Salad)\\n2. Fajitas de Pollo con Verduras (Chicken Fajitas with Vegetables)\\n3. Filete de Pescado al Limón (Lemon Fish Fillet)\\n4. Tacos de Carne Asada (Grilled Steak Tacos)\\n5. Arroz con Camarones (Shrimp and Rice)\\n6. Quesadillas de Hongos (Mushroom Quesadillas)\\n7. Sopa de Tortilla (Tortilla Soup)\\n8. Enchiladas de Queso (Cheese Enchiladas)\\n9. Tamales de Pollo (Chicken Tamales)\\n10. Burrito de Vegetales (Vegetable Burrito)\\n11. Flautas de Res (Beef Flautas)\\n12. Tostadas de Ceviche (Ceviche Tostadas)\\n13. Chiles Rellenos (Stuffed Peppers)\\n14. Guacamole y Chips (Guacamole and Chips)\\n15. Tres Leches Cake (Three Milk Cake)\\n16. Churros con Chocolate (Churros with Chocolate Sauce)'}\n",
      "Restaurant Name: \n",
      "\"El Jardín de Sabores\" (The Garden of Flavors)\n",
      "Menu Items: \n",
      "\n",
      "1. Ensalada de Jardín (Garden Salad)\n",
      "2. Fajitas de Pollo con Verduras (Chicken Fajitas with Vegetables)\n",
      "3. Filete de Pescado al Limón (Lemon Fish Fillet)\n",
      "4. Tacos de Carne Asada (Grilled Steak Tacos)\n",
      "5. Arroz con Camarones (Shrimp and Rice)\n",
      "6. Quesadillas de Hongos (Mushroom Quesadillas)\n",
      "7. Sopa de Tortilla (Tortilla Soup)\n",
      "8. Enchiladas de Queso (Cheese Enchiladas)\n",
      "9. Tamales de Pollo (Chicken Tamales)\n",
      "10. Burrito de Vegetales (Vegetable Burrito)\n",
      "11. Flautas de Res (Beef Flautas)\n",
      "12. Tostadas de Ceviche (Ceviche Tostadas)\n",
      "13. Chiles Rellenos (Stuffed Peppers)\n",
      "14. Guacamole y Chips (Guacamole and Chips)\n",
      "15. Tres Leches Cake (Three Milk Cake)\n",
      "16. Churros con Chocolate (Churros with Chocolate Sauce)\n"
     ]
    }
   ],
   "source": [
    "chain = SequentialChain(\n",
    "    chains = [name_chain, menu_chain], \n",
    "    input_variables=['cuisine'], \n",
    "    output_variables=['restaurant_name', 'menu_items']\n",
    ")\n",
    "\n",
    "result = chain.invoke({\"cuisine\": \"Mexican\"})\n",
    "print(result)\n",
    "print(\"Restaurant Name:\", result[\"restaurant_name\"])\n",
    "print(\"Menu Items:\", result[\"menu_items\"])"
   ]
  },
  {
   "cell_type": "code",
   "execution_count": 32,
   "id": "4cab5c9d-3469-431e-97e1-14875af2391d",
   "metadata": {},
   "outputs": [
    {
     "name": "stdout",
     "output_type": "stream",
     "text": [
      "Restaurant Name: \n",
      "\n",
      "\"El Jardín de Sabores\" (The Garden of Flavors)\n",
      "Menu Items:       \n",
      "\n",
      "1. Ensalada de Quinoa (Quinoa Salad)\n",
      "2. Tacos de Pescado (Fish Tacos)\n",
      "3. Pollo al Horno con Hierbas (Herb Roasted Chicken)\n",
      "4. Arroz con Frijoles (Rice and Beans)\n",
      "5. Sopa de Tortilla (Tortilla Soup)\n",
      "6. Enchiladas Verdes (Green Enchiladas)\n",
      "7. Chiles Rellenos (Stuffed Peppers)\n",
      "8. Carne Asada (Grilled Steak)\n",
      "9. Camarones al Ajillo (Garlic Shrimp)\n",
      "10. Fajitas de Vegetales (Vegetable Fajitas)\n",
      "11. Tamales de Pollo (Chicken Tamales)\n",
      "12. Flan de Caramelo (Caramel Flan)\n",
      "13. Horchata (Rice Milk Drink)\n",
      "14. Margaritas (Traditional Mexican Cocktail)\n",
      "15. Tres Leches Cake (Milk Soaked Cake)\n"
     ]
    }
   ],
   "source": [
    "from dotenv import load_dotenv\n",
    "load_dotenv()\n",
    "\n",
    "from langchain_openai import OpenAI\n",
    "from langchain.prompts import PromptTemplate\n",
    "from langchain_core.runnables import RunnableMap, RunnableLambda\n",
    "\n",
    "# 1) Initialize your LLM\n",
    "llm = OpenAI(temperature=0.6)\n",
    "\n",
    "# 2) Build a map that, given `cuisine`, returns `restaurant_name`\n",
    "prompt_name = PromptTemplate(\n",
    "    template=\"I want to open a restaurant for {cuisine} food. Suggest a fancy name for this.\",\n",
    "    input_variables=[\"cuisine\"]\n",
    ")\n",
    "name_chain = RunnableMap({\"restaurant_name\": prompt_name | llm})\n",
    "\n",
    "# 3) Build a map that, given `restaurant_name`, returns `menu_items`\n",
    "prompt_menu = PromptTemplate(\n",
    "    template=\"Suggest some menu items for {restaurant_name}. Return it as a comma separated list.\",\n",
    "    input_variables=[\"restaurant_name\"]\n",
    ")\n",
    "menu_chain = RunnableMap({\"menu_items\": prompt_menu | llm})\n",
    "\n",
    "# 4) Wrap both steps in a single RunnableLambda that merges their outputs\n",
    "def two_step(inputs: dict) -> dict:\n",
    "    # run the first chain\n",
    "    name_out = name_chain.invoke(inputs)\n",
    "    # run the second chain using the first's result\n",
    "    menu_out = menu_chain.invoke(name_out)\n",
    "    # merge both dictionaries into one\n",
    "    return {**name_out, **menu_out}\n",
    "\n",
    "full_chain = RunnableLambda(two_step)\n",
    "\n",
    "# 5) Invoke with your initial input\n",
    "result = full_chain.invoke({\"cuisine\": \"Mexican\"})\n",
    "\n",
    "# 6) Print both pieces cleanly\n",
    "print(\"Restaurant Name:\", result[\"restaurant_name\"])\n",
    "print(\"Menu Items:      \", result[\"menu_items\"])\n"
   ]
  },
  {
   "cell_type": "code",
   "execution_count": 33,
   "id": "a2753892-5498-4027-8bf6-988cb460ad17",
   "metadata": {},
   "outputs": [
    {
     "name": "stdout",
     "output_type": "stream",
     "text": [
      "Name:    \n",
      "\n",
      "\"La Casa de Sabor\" (The House of Flavor)\n",
      "Menu:    \n",
      "\n",
      "1. Arroz con pollo (rice with chicken)\n",
      "2. Ropa vieja (shredded beef stew)\n",
      "3. Picadillo (ground beef with vegetables)\n",
      "4. Lechón asado (roast pork)\n",
      "5. Tostones (fried plantains)\n",
      "6. Empanadas (stuffed pastries)\n",
      "7. Paella (Spanish-style rice with seafood and meats)\n",
      "8. Tamales (corn dough filled with meat and steamed in banana leaves)\n",
      "9. Mofongo (mashed plantains with garlic and pork cracklings)\n",
      "10. Churrasco (grilled steak)\n",
      "11. Camarones al ajillo (garlic shrimp)\n",
      "12. Pernil (slow-roasted pork shoulder)\n",
      "13. Flan (caramel custard)\n",
      "14. Tres leches cake (sponge cake soaked in three types of milk)\n",
      "15. Moros y cristianos (black beans and rice)\n",
      "Tagline: \n",
      "\n",
      "\"Where every bite feels like home.\"\n"
     ]
    }
   ],
   "source": [
    "from langchain_core.runnables import RunnableMap, RunnableLambda\n",
    "from langchain.prompts import PromptTemplate\n",
    "from langchain_openai import OpenAI\n",
    "from dotenv import load_dotenv\n",
    "\n",
    "load_dotenv()\n",
    "llm = OpenAI(temperature=0.6)\n",
    "\n",
    "# Chain A: cooks up a restaurant name\n",
    "name_chain = RunnableMap({\n",
    "    \"restaurant_name\": PromptTemplate(\n",
    "        template=\"Suggest a fancy name for a {cuisine} restaurant.\",\n",
    "        input_variables=[\"cuisine\"]\n",
    "    ) | llm\n",
    "})\n",
    "\n",
    "# Chain B: generates menu items\n",
    "menu_chain = RunnableMap({\n",
    "    \"menu_items\": PromptTemplate(\n",
    "        template=\"List some signature dishes for '{restaurant_name}'.\",\n",
    "        input_variables=[\"restaurant_name\"]\n",
    "    ) | llm\n",
    "})\n",
    "\n",
    "# Chain C: writes a short tagline\n",
    "tagline_chain = RunnableMap({\n",
    "    \"tagline\": PromptTemplate(\n",
    "        template=\"Write a catchy tagline for a restaurant named '{restaurant_name}'.\",\n",
    "        input_variables=[\"restaurant_name\"]\n",
    "    ) | llm\n",
    "})\n",
    "\n",
    "# Wrap all three in one RunnableLambda\n",
    "def multi_step(inputs: dict) -> dict:\n",
    "    # 1) name\n",
    "    out1 = name_chain.invoke(inputs)\n",
    "    # 2) menu (needs restaurant_name)\n",
    "    out2 = menu_chain.invoke(out1)\n",
    "    # 3) tagline (also needs restaurant_name)\n",
    "    out3 = tagline_chain.invoke(out1)\n",
    "    # merge all results\n",
    "    return {**out1, **out2, **out3}\n",
    "\n",
    "full_chain = RunnableLambda(multi_step)\n",
    "\n",
    "# Invoke with just the cuisine\n",
    "result = full_chain.invoke({\"cuisine\": \"Mexican\"})\n",
    "print(\"Name:   \", result[\"restaurant_name\"])\n",
    "print(\"Menu:   \", result[\"menu_items\"])\n",
    "print(\"Tagline:\", result[\"tagline\"])\n"
   ]
  },
  {
   "cell_type": "code",
   "execution_count": null,
   "id": "b7742ff0-be2c-4526-8e3b-b8a026c3417e",
   "metadata": {},
   "outputs": [],
   "source": []
  }
 ],
 "metadata": {
  "kernelspec": {
   "display_name": "Python 3 (ipykernel)",
   "language": "python",
   "name": "python3"
  },
  "language_info": {
   "codemirror_mode": {
    "name": "ipython",
    "version": 3
   },
   "file_extension": ".py",
   "mimetype": "text/x-python",
   "name": "python",
   "nbconvert_exporter": "python",
   "pygments_lexer": "ipython3",
   "version": "3.12.8"
  },
  "widgets": {
   "application/vnd.jupyter.widget-state+json": {
    "state": {},
    "version_major": 2,
    "version_minor": 0
   }
  }
 },
 "nbformat": 4,
 "nbformat_minor": 5
}
