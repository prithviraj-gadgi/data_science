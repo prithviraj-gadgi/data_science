{
 "cells": [
  {
   "cell_type": "code",
   "execution_count": 1,
   "id": "f88db64a-579e-4048-b947-6601107044ff",
   "metadata": {
    "execution": {
     "iopub.execute_input": "2025-07-25T05:48:56.392288Z",
     "iopub.status.busy": "2025-07-25T05:48:56.392153Z",
     "iopub.status.idle": "2025-07-25T05:48:57.411037Z",
     "shell.execute_reply": "2025-07-25T05:48:57.410664Z",
     "shell.execute_reply.started": "2025-07-25T05:48:56.392273Z"
    }
   },
   "outputs": [],
   "source": [
    "from langchain_chroma import Chroma\n",
    "from langchain_community.document_loaders import PyPDFLoader\n",
    "from langchain_ollama import ChatOllama\n",
    "from langchain_community.embeddings.fastembed import FastEmbedEmbeddings\n",
    "from langchain.text_splitter import RecursiveCharacterTextSplitter\n",
    "from langchain.prompts import PromptTemplate\n",
    "from langchain.chains.combine_documents import create_stuff_documents_chain\n",
    "from langchain.chains import create_retrieval_chain\n",
    "import sys"
   ]
  },
  {
   "cell_type": "code",
   "execution_count": 2,
   "id": "5407d2e0-f1ec-44b1-bcb5-204989da1d2e",
   "metadata": {
    "execution": {
     "iopub.execute_input": "2025-07-25T05:48:57.411652Z",
     "iopub.status.busy": "2025-07-25T05:48:57.411456Z",
     "iopub.status.idle": "2025-07-25T05:48:57.414458Z",
     "shell.execute_reply": "2025-07-25T05:48:57.414092Z",
     "shell.execute_reply.started": "2025-07-25T05:48:57.411640Z"
    }
   },
   "outputs": [],
   "source": [
    "def ingest():\n",
    "    \n",
    "    loader = PyPDFLoader(file_path='TVM.pdf')\n",
    "    pages = loader.load_and_split()\n",
    "    \n",
    "    text_splitter = RecursiveCharacterTextSplitter(\n",
    "        chunk_size=1024,\n",
    "        chunk_overlap=100,\n",
    "        length_function=len,\n",
    "        add_start_index=True,\n",
    "    )\n",
    "    \n",
    "    chunks = text_splitter.split_documents(pages)\n",
    "    print(f\"Split {len(pages)} documents into {len(chunks)} chunks.\")\n",
    "    \n",
    "    embedding = FastEmbedEmbeddings()\n",
    "    \n",
    "    Chroma.from_documents(documents=chunks,  embedding=embedding, persist_directory=\"./chroma_db\")"
   ]
  },
  {
   "cell_type": "code",
   "execution_count": 3,
   "id": "cea81e76-7af6-47ff-b96f-0e9b0b544933",
   "metadata": {
    "execution": {
     "iopub.execute_input": "2025-07-25T05:48:57.414971Z",
     "iopub.status.busy": "2025-07-25T05:48:57.414843Z",
     "iopub.status.idle": "2025-07-25T05:49:07.494038Z",
     "shell.execute_reply": "2025-07-25T05:49:07.493657Z",
     "shell.execute_reply.started": "2025-07-25T05:48:57.414959Z"
    }
   },
   "outputs": [
    {
     "name": "stdout",
     "output_type": "stream",
     "text": [
      "Split 20 documents into 56 chunks.\n"
     ]
    }
   ],
   "source": [
    "ingest()"
   ]
  },
  {
   "cell_type": "code",
   "execution_count": 4,
   "id": "a9db9f22-2f77-4026-a018-3ffbaa40f5c4",
   "metadata": {
    "execution": {
     "iopub.execute_input": "2025-07-25T05:49:07.494732Z",
     "iopub.status.busy": "2025-07-25T05:49:07.494513Z",
     "iopub.status.idle": "2025-07-25T05:49:07.773380Z",
     "shell.execute_reply": "2025-07-25T05:49:07.772699Z",
     "shell.execute_reply.started": "2025-07-25T05:49:07.494706Z"
    }
   },
   "outputs": [
    {
     "name": "stderr",
     "output_type": "stream",
     "text": [
      "Note: Environment variable`HF_TOKEN` is set and is the current active token independently from the token you've just configured.\n"
     ]
    }
   ],
   "source": [
    "from huggingface_hub import login\n",
    "import os\n",
    "from dotenv import load_dotenv\n",
    "load_dotenv()\n",
    "\n",
    "login(token=os.getenv(\"HF_TOKEN\"))"
   ]
  },
  {
   "cell_type": "code",
   "execution_count": 5,
   "id": "4bbbb63b-ba73-4628-9073-385d641f264c",
   "metadata": {
    "execution": {
     "iopub.execute_input": "2025-07-25T05:49:07.774501Z",
     "iopub.status.busy": "2025-07-25T05:49:07.774226Z",
     "iopub.status.idle": "2025-07-25T05:49:07.778720Z",
     "shell.execute_reply": "2025-07-25T05:49:07.778212Z",
     "shell.execute_reply.started": "2025-07-25T05:49:07.774479Z"
    }
   },
   "outputs": [],
   "source": [
    "def rag_chain():\n",
    "    model = ChatOllama(model=\"llama3\")\n",
    "    \n",
    "    prompt = PromptTemplate.from_template(\n",
    "        \"\"\"\n",
    "        <s> [Instructions] You are a friendly assistant. Answer the question based only on the following context. \n",
    "        If you don't know the answer, then reply, No Context availabel for this question {input}. [/Instructions] </s> \n",
    "        [Instructions] Question: {input} \n",
    "        Context: {context} \n",
    "        Answer: [/Instructions]\n",
    "        \"\"\"\n",
    "    )\n",
    "\n",
    "    embedding = FastEmbedEmbeddings()\n",
    "    vector_store = Chroma(persist_directory=\"./chroma_db\", embedding_function=embedding)\n",
    "\n",
    "    retriever = vector_store.as_retriever(\n",
    "        search_type=\"similarity_score_threshold\",\n",
    "        search_kwargs={\n",
    "            \"k\": 3,\n",
    "            \"score_threshold\": 0.5,\n",
    "        },\n",
    "    )\n",
    "\n",
    "    document_chain = create_stuff_documents_chain(model, prompt)\n",
    "    chain = create_retrieval_chain(retriever, document_chain)\n",
    "    \n",
    "    return chain"
   ]
  },
  {
   "cell_type": "code",
   "execution_count": 6,
   "id": "ec666cc3-9035-4109-86a9-69ad97b5bbe1",
   "metadata": {
    "execution": {
     "iopub.execute_input": "2025-07-25T05:49:07.780190Z",
     "iopub.status.busy": "2025-07-25T05:49:07.780008Z",
     "iopub.status.idle": "2025-07-25T05:49:07.789774Z",
     "shell.execute_reply": "2025-07-25T05:49:07.789278Z",
     "shell.execute_reply.started": "2025-07-25T05:49:07.780173Z"
    }
   },
   "outputs": [],
   "source": [
    "def ask(query: str):\n",
    "    chain = rag_chain()\n",
    "    result = chain.invoke({\"input\": query})\n",
    "    print(result[\"answer\"])\n",
    "    \n",
    "    for doc in result[\"context\"]:\n",
    "        print(\"Source: \", doc.metadata[\"source\"])"
   ]
  },
  {
   "cell_type": "code",
   "execution_count": 7,
   "id": "a2cc2194-73de-4a3d-baca-230d2005deb8",
   "metadata": {
    "execution": {
     "iopub.execute_input": "2025-07-25T05:49:07.790570Z",
     "iopub.status.busy": "2025-07-25T05:49:07.790366Z",
     "iopub.status.idle": "2025-07-25T05:50:13.194884Z",
     "shell.execute_reply": "2025-07-25T05:50:13.194426Z",
     "shell.execute_reply.started": "2025-07-25T05:49:07.790555Z"
    }
   },
   "outputs": [
    {
     "name": "stdout",
     "output_type": "stream",
     "text": [
      "Single Payment Problems refer to financial problems that involve a single payment at a future date or a present value problem where the goal is to find the interest rate or the number of periods (n). These problems can be solved using the formula FV = PV (1 + r)^n, where FV is the future value, PV is the present value, and r is the interest rate. The problems can be classified into three types:\n",
      "\n",
      "* Single payment, future value: Given the present value and the number of periods, find the future value.\n",
      "* Single payment, present value: Given the future value and the number of periods, find the present value.\n",
      "* Single payment, interest rate: Given the present value and the future value (or both), find the interest rate.\n",
      "Source:  TVM.pdf\n",
      "Source:  TVM.pdf\n",
      "Source:  TVM.pdf\n"
     ]
    }
   ],
   "source": [
    "ask(\"What are Single Payment Problems?\")"
   ]
  },
  {
   "cell_type": "code",
   "execution_count": null,
   "id": "cb22c442-b70d-454e-bd18-15ab2b905200",
   "metadata": {},
   "outputs": [],
   "source": []
  }
 ],
 "metadata": {
  "kernelspec": {
   "display_name": "Python 3 (ipykernel)",
   "language": "python",
   "name": "python3"
  },
  "language_info": {
   "codemirror_mode": {
    "name": "ipython",
    "version": 3
   },
   "file_extension": ".py",
   "mimetype": "text/x-python",
   "name": "python",
   "nbconvert_exporter": "python",
   "pygments_lexer": "ipython3",
   "version": "3.12.11"
  }
 },
 "nbformat": 4,
 "nbformat_minor": 5
}
